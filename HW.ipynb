{
 "cells": [
  {
   "cell_type": "code",
   "execution_count": 1,
   "id": "71bc065f-2a70-4b72-8eda-a6e8c38af1f5",
   "metadata": {
    "tags": []
   },
   "outputs": [
    {
     "name": "stdout",
     "output_type": "stream",
     "text": [
      "\n",
      "\u001b[1m[\u001b[0m\u001b[34;49mnotice\u001b[0m\u001b[1;39;49m]\u001b[0m\u001b[39;49m A new release of pip is available: \u001b[0m\u001b[31;49m24.0\u001b[0m\u001b[39;49m -> \u001b[0m\u001b[32;49m24.3.1\u001b[0m\n",
      "\u001b[1m[\u001b[0m\u001b[34;49mnotice\u001b[0m\u001b[1;39;49m]\u001b[0m\u001b[39;49m To update, run: \u001b[0m\u001b[32;49mpip install --upgrade pip\u001b[0m\n"
     ]
    }
   ],
   "source": [
    "!pip install -q catboost scikit-learn"
   ]
  },
  {
   "cell_type": "code",
   "execution_count": 2,
   "id": "c956eeb2-c29f-4289-8102-50424c4f8242",
   "metadata": {
    "tags": []
   },
   "outputs": [],
   "source": [
    "import pandas as pd\n",
    "import numpy as np\n",
    "import catboost as cb\n",
    "from sklearn.preprocessing import OneHotEncoder"
   ]
  },
  {
   "cell_type": "markdown",
   "id": "a8ff360b-01c9-403d-8137-c26f991853c8",
   "metadata": {},
   "source": [
    "Скачайте [датасет](https://archive.ics.uci.edu/dataset/2/adult) из Gitlab.\n",
    "\n",
    "Добавьте файлы в MLCore, дайте названия колонкам и прочитайте файлы:"
   ]
  },
  {
   "cell_type": "code",
   "execution_count": 3,
   "id": "ca4294c1-8ec5-4e49-bb13-9d9e250584d4",
   "metadata": {
    "tags": []
   },
   "outputs": [],
   "source": [
    "colnames = ['age','wc','fnlwgt','ed','ednum','ms','occ','rel','race','sex','cgain','closs','hpw','nc','label']\n",
    "train_set = pd.read_csv(\"adult.data\",header=None,names=colnames,na_values='?')\n",
    "test_set = pd.read_csv(\"adult.test\",header=None,names=colnames,na_values='?',skiprows=[0])"
   ]
  },
  {
   "cell_type": "code",
   "execution_count": 4,
   "id": "feb4f9fe-803a-4cbe-ace7-133065fdb088",
   "metadata": {
    "tags": []
   },
   "outputs": [
    {
     "data": {
      "text/html": [
       "<div>\n",
       "<style scoped>\n",
       "    .dataframe tbody tr th:only-of-type {\n",
       "        vertical-align: middle;\n",
       "    }\n",
       "\n",
       "    .dataframe tbody tr th {\n",
       "        vertical-align: top;\n",
       "    }\n",
       "\n",
       "    .dataframe thead th {\n",
       "        text-align: right;\n",
       "    }\n",
       "</style>\n",
       "<table border=\"1\" class=\"dataframe\">\n",
       "  <thead>\n",
       "    <tr style=\"text-align: right;\">\n",
       "      <th></th>\n",
       "      <th>age</th>\n",
       "      <th>wc</th>\n",
       "      <th>fnlwgt</th>\n",
       "      <th>ed</th>\n",
       "      <th>ednum</th>\n",
       "      <th>ms</th>\n",
       "      <th>occ</th>\n",
       "      <th>rel</th>\n",
       "      <th>race</th>\n",
       "      <th>sex</th>\n",
       "      <th>cgain</th>\n",
       "      <th>closs</th>\n",
       "      <th>hpw</th>\n",
       "      <th>nc</th>\n",
       "      <th>label</th>\n",
       "    </tr>\n",
       "  </thead>\n",
       "  <tbody>\n",
       "    <tr>\n",
       "      <th>0</th>\n",
       "      <td>39</td>\n",
       "      <td>State-gov</td>\n",
       "      <td>77516</td>\n",
       "      <td>Bachelors</td>\n",
       "      <td>13</td>\n",
       "      <td>Never-married</td>\n",
       "      <td>Adm-clerical</td>\n",
       "      <td>Not-in-family</td>\n",
       "      <td>White</td>\n",
       "      <td>Male</td>\n",
       "      <td>2174</td>\n",
       "      <td>0</td>\n",
       "      <td>40</td>\n",
       "      <td>United-States</td>\n",
       "      <td>&lt;=50K</td>\n",
       "    </tr>\n",
       "    <tr>\n",
       "      <th>1</th>\n",
       "      <td>50</td>\n",
       "      <td>Self-emp-not-inc</td>\n",
       "      <td>83311</td>\n",
       "      <td>Bachelors</td>\n",
       "      <td>13</td>\n",
       "      <td>Married-civ-spouse</td>\n",
       "      <td>Exec-managerial</td>\n",
       "      <td>Husband</td>\n",
       "      <td>White</td>\n",
       "      <td>Male</td>\n",
       "      <td>0</td>\n",
       "      <td>0</td>\n",
       "      <td>13</td>\n",
       "      <td>United-States</td>\n",
       "      <td>&lt;=50K</td>\n",
       "    </tr>\n",
       "    <tr>\n",
       "      <th>2</th>\n",
       "      <td>38</td>\n",
       "      <td>Private</td>\n",
       "      <td>215646</td>\n",
       "      <td>HS-grad</td>\n",
       "      <td>9</td>\n",
       "      <td>Divorced</td>\n",
       "      <td>Handlers-cleaners</td>\n",
       "      <td>Not-in-family</td>\n",
       "      <td>White</td>\n",
       "      <td>Male</td>\n",
       "      <td>0</td>\n",
       "      <td>0</td>\n",
       "      <td>40</td>\n",
       "      <td>United-States</td>\n",
       "      <td>&lt;=50K</td>\n",
       "    </tr>\n",
       "    <tr>\n",
       "      <th>3</th>\n",
       "      <td>53</td>\n",
       "      <td>Private</td>\n",
       "      <td>234721</td>\n",
       "      <td>11th</td>\n",
       "      <td>7</td>\n",
       "      <td>Married-civ-spouse</td>\n",
       "      <td>Handlers-cleaners</td>\n",
       "      <td>Husband</td>\n",
       "      <td>Black</td>\n",
       "      <td>Male</td>\n",
       "      <td>0</td>\n",
       "      <td>0</td>\n",
       "      <td>40</td>\n",
       "      <td>United-States</td>\n",
       "      <td>&lt;=50K</td>\n",
       "    </tr>\n",
       "    <tr>\n",
       "      <th>4</th>\n",
       "      <td>28</td>\n",
       "      <td>Private</td>\n",
       "      <td>338409</td>\n",
       "      <td>Bachelors</td>\n",
       "      <td>13</td>\n",
       "      <td>Married-civ-spouse</td>\n",
       "      <td>Prof-specialty</td>\n",
       "      <td>Wife</td>\n",
       "      <td>Black</td>\n",
       "      <td>Female</td>\n",
       "      <td>0</td>\n",
       "      <td>0</td>\n",
       "      <td>40</td>\n",
       "      <td>Cuba</td>\n",
       "      <td>&lt;=50K</td>\n",
       "    </tr>\n",
       "  </tbody>\n",
       "</table>\n",
       "</div>"
      ],
      "text/plain": [
       "   age                 wc  fnlwgt          ed  ednum                   ms  \\\n",
       "0   39          State-gov   77516   Bachelors     13        Never-married   \n",
       "1   50   Self-emp-not-inc   83311   Bachelors     13   Married-civ-spouse   \n",
       "2   38            Private  215646     HS-grad      9             Divorced   \n",
       "3   53            Private  234721        11th      7   Married-civ-spouse   \n",
       "4   28            Private  338409   Bachelors     13   Married-civ-spouse   \n",
       "\n",
       "                  occ             rel    race      sex  cgain  closs  hpw  \\\n",
       "0        Adm-clerical   Not-in-family   White     Male   2174      0   40   \n",
       "1     Exec-managerial         Husband   White     Male      0      0   13   \n",
       "2   Handlers-cleaners   Not-in-family   White     Male      0      0   40   \n",
       "3   Handlers-cleaners         Husband   Black     Male      0      0   40   \n",
       "4      Prof-specialty            Wife   Black   Female      0      0   40   \n",
       "\n",
       "               nc   label  \n",
       "0   United-States   <=50K  \n",
       "1   United-States   <=50K  \n",
       "2   United-States   <=50K  \n",
       "3   United-States   <=50K  \n",
       "4            Cuba   <=50K  "
      ]
     },
     "execution_count": 4,
     "metadata": {},
     "output_type": "execute_result"
    }
   ],
   "source": [
    "train_set.head()"
   ]
  },
  {
   "cell_type": "markdown",
   "id": "297ff253-4220-4e56-a839-2937a8b03f17",
   "metadata": {},
   "source": [
    "Задайте категориальные переменные:"
   ]
  },
  {
   "cell_type": "code",
   "execution_count": 5,
   "id": "9bce3228-af45-4d45-8242-32c5114eb46c",
   "metadata": {
    "tags": []
   },
   "outputs": [],
   "source": [
    "category_cols = ['wc','ed','ms','occ','rel','race','sex','nc','label']\n",
    "cat_dims = [train_set.columns.get_loc(i) for i in category_cols[:-1]] #индексы категориальных фичей"
   ]
  },
  {
   "cell_type": "markdown",
   "id": "5ced6e60-ef06-454a-a4ff-5208fbadb3be",
   "metadata": {},
   "source": [
    "Разделите датасет на таргет и обучающие переменные:"
   ]
  },
  {
   "cell_type": "code",
   "execution_count": 6,
   "id": "509bd573-f000-4118-8a7d-fe4b0992a712",
   "metadata": {
    "tags": []
   },
   "outputs": [],
   "source": [
    "y_train = train_set['label']\n",
    "X_train = train_set.drop('label', axis=1)\n",
    "y_test = test_set['label']\n",
    "X_test = test_set.drop('label', axis=1)"
   ]
  },
  {
   "cell_type": "markdown",
   "id": "15b8277a-7db9-443c-8289-6ba136dff667",
   "metadata": {},
   "source": [
    "**Попробуйте изученные в модуле модели для классификации чтобы получить accuracy выше 0,86.**\n",
    "\n",
    "Не забывайте предобрабатывать данные (например, стандартизировть) там, где это необходимо.\n",
    "\n",
    "Для большинства моделей вам так же потребуется OneHotEncoding для того, чтобы привести категориальные данные к буллиевым:"
   ]
  },
  {
   "cell_type": "code",
   "execution_count": 7,
   "id": "1b407642-b0ac-4899-becb-957071b6d1f5",
   "metadata": {
    "tags": []
   },
   "outputs": [],
   "source": [
    "enc = OneHotEncoder()"
   ]
  },
  {
   "cell_type": "code",
   "execution_count": 8,
   "id": "81a336a0-9d33-4f3f-aa5d-4724d3490389",
   "metadata": {
    "tags": []
   },
   "outputs": [],
   "source": [
    "for cat in category_cols[:-1]:\n",
    "    enc.fit(X_train[cat].values.reshape(-1, 1))\n",
    "    one_hot_train = pd.DataFrame(enc.transform(X_train[cat].values.reshape(-1, 1)).todense())\n",
    "    one_hot_test = pd.DataFrame(enc.transform(X_test[cat].values.reshape(-1, 1)).todense())\n",
    "    X_train = pd.concat([X_train, one_hot_train], axis=1).drop([cat], axis=1)\n",
    "    X_test = pd.concat([X_test, one_hot_test], axis=1).drop([cat], axis=1)"
   ]
  },
  {
   "cell_type": "markdown",
   "id": "39816282-1832-4beb-b7c1-e6bbcfe8aa18",
   "metadata": {},
   "source": [
    "Удачи!"
   ]
  },
  {
   "cell_type": "code",
   "execution_count": null,
   "id": "fa3aade3-5523-455a-a298-8067966cddf3",
   "metadata": {},
   "outputs": [],
   "source": []
  }
 ],
 "metadata": {
  "kernelspec": {
   "display_name": "Python 3 (ipykernel)",
   "language": "python",
   "name": "python3"
  },
  "language_info": {
   "codemirror_mode": {
    "name": "ipython",
    "version": 3
   },
   "file_extension": ".py",
   "mimetype": "text/x-python",
   "name": "python",
   "nbconvert_exporter": "python",
   "pygments_lexer": "ipython3",
   "version": "3.11.6"
  }
 },
 "nbformat": 4,
 "nbformat_minor": 5
}
